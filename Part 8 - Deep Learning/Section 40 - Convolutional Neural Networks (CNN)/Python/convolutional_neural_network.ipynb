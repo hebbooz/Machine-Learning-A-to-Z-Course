{
  "cells": [
    {
      "cell_type": "markdown",
      "metadata": {
        "colab_type": "text",
        "id": "3DR-eO17geWu"
      },
      "source": [
        "# Convolutional Neural Network"
      ]
    },
    {
      "cell_type": "markdown",
      "metadata": {
        "colab_type": "text",
        "id": "EMefrVPCg-60"
      },
      "source": [
        "### Importing the libraries"
      ]
    },
    {
      "cell_type": "code",
      "execution_count": 1,
      "metadata": {
        "colab": {},
        "colab_type": "code",
        "id": "sCV30xyVhFbE"
      },
      "outputs": [],
      "source": [
        "import tensorflow as tf\n",
        "from keras.preprocessing.image import ImageDataGenerator"
      ]
    },
    {
      "cell_type": "code",
      "execution_count": 2,
      "metadata": {
        "colab": {},
        "colab_type": "code",
        "id": "FIleuCAjoFD8"
      },
      "outputs": [
        {
          "data": {
            "text/plain": [
              "'2.15.0'"
            ]
          },
          "execution_count": 2,
          "metadata": {},
          "output_type": "execute_result"
        }
      ],
      "source": [
        "tf.__version__"
      ]
    },
    {
      "cell_type": "markdown",
      "metadata": {
        "colab_type": "text",
        "id": "oxQxCBWyoGPE"
      },
      "source": [
        "## Part 1 - Data Preprocessing"
      ]
    },
    {
      "cell_type": "markdown",
      "metadata": {
        "colab_type": "text",
        "id": "MvE-heJNo3GG"
      },
      "source": [
        "### Preprocessing the Training set"
      ]
    },
    {
      "cell_type": "code",
      "execution_count": 3,
      "metadata": {
        "colab": {},
        "colab_type": "code",
        "id": "0koUcJMJpEBD"
      },
      "outputs": [
        {
          "name": "stdout",
          "output_type": "stream",
          "text": [
            "Found 8000 images belonging to 2 classes.\n"
          ]
        }
      ],
      "source": [
        "# How the images will be transformed/augmented\n",
        "train_datagen = ImageDataGenerator( \n",
        "    rescale=1./255, # Feature Scaling: All pixel values will be between 0 and 1.\n",
        "    shear_range=0.2,\n",
        "    zoom_range=0.2,\n",
        "    horizontal_flip = True\n",
        ")\n",
        "\n",
        "# Connect the ImageDataGenerator to the training set\n",
        "training_set = train_datagen.flow_from_directory( \n",
        "    'dataset/training_set', # Path to the training set\n",
        "    target_size=(64, 64), # Size of the images expected in the CNN model\n",
        "    batch_size=32,\n",
        "    class_mode='binary' # Classification type (binary or categorical)\n",
        ")"
      ]
    },
    {
      "cell_type": "markdown",
      "metadata": {
        "colab_type": "text",
        "id": "mrCMmGw9pHys"
      },
      "source": [
        "### Preprocessing the Test set"
      ]
    },
    {
      "cell_type": "code",
      "execution_count": 4,
      "metadata": {
        "colab": {},
        "colab_type": "code",
        "id": "SH4WzfOhpKc3"
      },
      "outputs": [
        {
          "name": "stdout",
          "output_type": "stream",
          "text": [
            "Found 2000 images belonging to 2 classes.\n"
          ]
        }
      ],
      "source": [
        "test_datagen = ImageDataGenerator(rescale=1./255) # Rescale the pixel values the same as the training set.\n",
        "\n",
        "test_set = test_datagen.flow_from_directory(\n",
        "    'dataset/test_set',\n",
        "    target_size=(64, 64),\n",
        "    batch_size=32,\n",
        "    class_mode='binary'\n",
        ")"
      ]
    },
    {
      "cell_type": "markdown",
      "metadata": {
        "colab_type": "text",
        "id": "af8O4l90gk7B"
      },
      "source": [
        "## Part 2 - Building the CNN"
      ]
    },
    {
      "cell_type": "markdown",
      "metadata": {
        "colab_type": "text",
        "id": "ces1gXY2lmoX"
      },
      "source": [
        "### Initialising the CNN"
      ]
    },
    {
      "cell_type": "code",
      "execution_count": 5,
      "metadata": {
        "colab": {},
        "colab_type": "code",
        "id": "SAUt4UMPlhLS"
      },
      "outputs": [],
      "source": [
        "cnn = tf.keras.models.Sequential()"
      ]
    },
    {
      "cell_type": "markdown",
      "metadata": {
        "colab_type": "text",
        "id": "u5YJj_XMl5LF"
      },
      "source": [
        "### Step 1 - Convolution"
      ]
    },
    {
      "cell_type": "code",
      "execution_count": 7,
      "metadata": {
        "colab": {},
        "colab_type": "code",
        "id": "XPzPrMckl-hV"
      },
      "outputs": [],
      "source": [
        "# adding the first convolutional layer\n",
        "cnn.add(tf.keras.layers.Conv2D(filters=32, # Number of feature detectors\n",
        "                               kernel_size=3, # Size of the feature detectors (3x3)\n",
        "                               activation='relu', # Rectifier activation function\n",
        "                               input_shape=[64, 64, 3] # Using the same size as the images (64x64) and 3 for RGB (3 channels)\n",
        "                               )) "
      ]
    },
    {
      "cell_type": "markdown",
      "metadata": {
        "colab_type": "text",
        "id": "tf87FpvxmNOJ"
      },
      "source": [
        "### Step 2 - Pooling"
      ]
    },
    {
      "cell_type": "code",
      "execution_count": 8,
      "metadata": {
        "colab": {},
        "colab_type": "code",
        "id": "ncpqPl69mOac"
      },
      "outputs": [],
      "source": [
        "#adding the pooling layers\n",
        "cnn.add(tf.keras.layers.MaxPool2D(pool_size=2,\n",
        "                                  strides=2 # How the pooling will be done (2x2)\n",
        "                                  ))"
      ]
    },
    {
      "cell_type": "markdown",
      "metadata": {
        "colab_type": "text",
        "id": "xaTOgD8rm4mU"
      },
      "source": [
        "### Adding a second convolutional layer"
      ]
    },
    {
      "cell_type": "code",
      "execution_count": 9,
      "metadata": {
        "colab": {},
        "colab_type": "code",
        "id": "i_-FZjn_m8gk"
      },
      "outputs": [],
      "source": [
        "cnn.add(tf.keras.layers.Conv2D(filters=32, kernel_size=3, activation='relu', input_shape=[64, 64, 3])) \n",
        "cnn.add(tf.keras.layers.MaxPool2D(pool_size=2, strides=2))"
      ]
    },
    {
      "cell_type": "markdown",
      "metadata": {
        "colab_type": "text",
        "id": "tmiEuvTunKfk"
      },
      "source": [
        "### Step 3 - Flattening"
      ]
    },
    {
      "cell_type": "code",
      "execution_count": 10,
      "metadata": {
        "colab": {},
        "colab_type": "code",
        "id": "6AZeOGCvnNZn"
      },
      "outputs": [],
      "source": [
        "# Turn the 2D array into a 1D vector\n",
        "cnn.add(tf.keras.layers.Flatten())"
      ]
    },
    {
      "cell_type": "markdown",
      "metadata": {
        "colab_type": "text",
        "id": "dAoSECOm203v"
      },
      "source": [
        "### Step 4 - Full Connection"
      ]
    },
    {
      "cell_type": "code",
      "execution_count": 11,
      "metadata": {
        "colab": {},
        "colab_type": "code",
        "id": "8GtmUlLd26Nq"
      },
      "outputs": [],
      "source": [
        "cnn.add(tf.keras.layers.Dense(units=128, activation='relu')) # Add the hidden layer. Units is the number of neurons in the hidden layer."
      ]
    },
    {
      "cell_type": "markdown",
      "metadata": {
        "colab_type": "text",
        "id": "yTldFvbX28Na"
      },
      "source": [
        "### Step 5 - Output Layer"
      ]
    },
    {
      "cell_type": "code",
      "execution_count": 13,
      "metadata": {
        "colab": {},
        "colab_type": "code",
        "id": "1p_Zj1Mc3Ko_"
      },
      "outputs": [],
      "source": [
        "cnn.add(tf.keras.layers.Dense(units=1, activation='sigmoid')) # As we are doing binary classification, we only need one neuron in the output layer."
      ]
    },
    {
      "cell_type": "markdown",
      "metadata": {
        "colab_type": "text",
        "id": "D6XkI90snSDl"
      },
      "source": [
        "## Part 3 - Training the CNN"
      ]
    },
    {
      "cell_type": "markdown",
      "metadata": {
        "colab_type": "text",
        "id": "vfrFQACEnc6i"
      },
      "source": [
        "### Compiling the CNN"
      ]
    },
    {
      "cell_type": "code",
      "execution_count": 14,
      "metadata": {
        "colab": {},
        "colab_type": "code",
        "id": "NALksrNQpUlJ"
      },
      "outputs": [],
      "source": [
        "cnn.compile(optimizer='adam', loss='binary_crossentropy', metrics=['accuracy'])"
      ]
    },
    {
      "cell_type": "markdown",
      "metadata": {
        "colab_type": "text",
        "id": "ehS-v3MIpX2h"
      },
      "source": [
        "### Training the CNN on the Training set and evaluating it on the Test set"
      ]
    },
    {
      "cell_type": "code",
      "execution_count": 16,
      "metadata": {
        "colab": {},
        "colab_type": "code",
        "id": "XUj1W4PJptta"
      },
      "outputs": [
        {
          "name": "stdout",
          "output_type": "stream",
          "text": [
            "Epoch 1/25\n",
            "250/250 [==============================] - 25s 101ms/step - loss: 0.4231 - accuracy: 0.8080 - val_loss: 0.4449 - val_accuracy: 0.8020\n",
            "Epoch 2/25\n",
            "250/250 [==============================] - 25s 99ms/step - loss: 0.4103 - accuracy: 0.8081 - val_loss: 0.4505 - val_accuracy: 0.7940\n",
            "Epoch 3/25\n",
            "250/250 [==============================] - 25s 100ms/step - loss: 0.3859 - accuracy: 0.8199 - val_loss: 0.4533 - val_accuracy: 0.8025\n",
            "Epoch 4/25\n",
            "250/250 [==============================] - 24s 95ms/step - loss: 0.3750 - accuracy: 0.8338 - val_loss: 0.4359 - val_accuracy: 0.7940\n",
            "Epoch 5/25\n",
            "250/250 [==============================] - 24s 97ms/step - loss: 0.3678 - accuracy: 0.8328 - val_loss: 0.4443 - val_accuracy: 0.8085\n",
            "Epoch 6/25\n",
            "250/250 [==============================] - 24s 97ms/step - loss: 0.3511 - accuracy: 0.8455 - val_loss: 0.4440 - val_accuracy: 0.8080\n",
            "Epoch 7/25\n",
            "250/250 [==============================] - 23s 91ms/step - loss: 0.3379 - accuracy: 0.8499 - val_loss: 0.4580 - val_accuracy: 0.8055\n",
            "Epoch 8/25\n",
            "250/250 [==============================] - 23s 92ms/step - loss: 0.3237 - accuracy: 0.8610 - val_loss: 0.4841 - val_accuracy: 0.7995\n",
            "Epoch 9/25\n",
            "250/250 [==============================] - 25s 99ms/step - loss: 0.2963 - accuracy: 0.8731 - val_loss: 0.4590 - val_accuracy: 0.8175\n",
            "Epoch 10/25\n",
            "250/250 [==============================] - 24s 96ms/step - loss: 0.2900 - accuracy: 0.8745 - val_loss: 0.4582 - val_accuracy: 0.8175\n",
            "Epoch 11/25\n",
            "250/250 [==============================] - 24s 96ms/step - loss: 0.2755 - accuracy: 0.8839 - val_loss: 0.4609 - val_accuracy: 0.8235\n",
            "Epoch 12/25\n",
            "250/250 [==============================] - 24s 95ms/step - loss: 0.2635 - accuracy: 0.8894 - val_loss: 0.4711 - val_accuracy: 0.8115\n",
            "Epoch 13/25\n",
            "250/250 [==============================] - 23s 93ms/step - loss: 0.2498 - accuracy: 0.8924 - val_loss: 0.4714 - val_accuracy: 0.8235\n",
            "Epoch 14/25\n",
            "250/250 [==============================] - 24s 95ms/step - loss: 0.2442 - accuracy: 0.8961 - val_loss: 0.4739 - val_accuracy: 0.8160\n",
            "Epoch 15/25\n",
            "250/250 [==============================] - 24s 95ms/step - loss: 0.2316 - accuracy: 0.9036 - val_loss: 0.5229 - val_accuracy: 0.8080\n",
            "Epoch 16/25\n",
            "250/250 [==============================] - 26s 105ms/step - loss: 0.2138 - accuracy: 0.9128 - val_loss: 0.5211 - val_accuracy: 0.8095\n",
            "Epoch 17/25\n",
            "250/250 [==============================] - 23s 94ms/step - loss: 0.2075 - accuracy: 0.9121 - val_loss: 0.5029 - val_accuracy: 0.8220\n",
            "Epoch 18/25\n",
            "250/250 [==============================] - 24s 95ms/step - loss: 0.1897 - accuracy: 0.9239 - val_loss: 0.4992 - val_accuracy: 0.8280\n",
            "Epoch 19/25\n",
            "250/250 [==============================] - 25s 99ms/step - loss: 0.1850 - accuracy: 0.9269 - val_loss: 0.5493 - val_accuracy: 0.8200\n",
            "Epoch 20/25\n",
            "250/250 [==============================] - 26s 104ms/step - loss: 0.1726 - accuracy: 0.9317 - val_loss: 0.5463 - val_accuracy: 0.8155\n",
            "Epoch 21/25\n",
            "250/250 [==============================] - 27s 106ms/step - loss: 0.1556 - accuracy: 0.9389 - val_loss: 0.6162 - val_accuracy: 0.8100\n",
            "Epoch 22/25\n",
            "250/250 [==============================] - 24s 97ms/step - loss: 0.1710 - accuracy: 0.9336 - val_loss: 0.6078 - val_accuracy: 0.7990\n",
            "Epoch 23/25\n",
            "250/250 [==============================] - 24s 96ms/step - loss: 0.1473 - accuracy: 0.9441 - val_loss: 0.6484 - val_accuracy: 0.8190\n",
            "Epoch 24/25\n",
            "250/250 [==============================] - 26s 106ms/step - loss: 0.1425 - accuracy: 0.9442 - val_loss: 0.6371 - val_accuracy: 0.8165\n",
            "Epoch 25/25\n",
            "250/250 [==============================] - 26s 102ms/step - loss: 0.1334 - accuracy: 0.9504 - val_loss: 0.6439 - val_accuracy: 0.8180\n"
          ]
        },
        {
          "data": {
            "text/plain": [
              "<keras.src.callbacks.History at 0x2ca63aef0>"
            ]
          },
          "execution_count": 16,
          "metadata": {},
          "output_type": "execute_result"
        }
      ],
      "source": [
        "cnn.fit(x=training_set, validation_data=test_set, epochs=25)"
      ]
    },
    {
      "cell_type": "markdown",
      "metadata": {
        "colab_type": "text",
        "id": "U3PZasO0006Z"
      },
      "source": [
        "## Part 4 - Making a single prediction"
      ]
    },
    {
      "cell_type": "code",
      "execution_count": null,
      "metadata": {},
      "outputs": [],
      "source": []
    },
    {
      "cell_type": "code",
      "execution_count": 18,
      "metadata": {
        "colab": {},
        "colab_type": "code",
        "id": "gsSiWEJY1BPB"
      },
      "outputs": [
        {
          "ename": "FileNotFoundError",
          "evalue": "[Errno 2] No such file or directory: '../dataset/single_prediction/cat_or_dog_1.jpg'",
          "output_type": "error",
          "traceback": [
            "\u001b[0;31m---------------------------------------------------------------------------\u001b[0m",
            "\u001b[0;31mFileNotFoundError\u001b[0m                         Traceback (most recent call last)",
            "Cell \u001b[0;32mIn[18], line 3\u001b[0m\n\u001b[1;32m      1\u001b[0m \u001b[38;5;28;01mimport\u001b[39;00m \u001b[38;5;21;01mnumpy\u001b[39;00m \u001b[38;5;28;01mas\u001b[39;00m \u001b[38;5;21;01mnp\u001b[39;00m\n\u001b[1;32m      2\u001b[0m \u001b[38;5;28;01mfrom\u001b[39;00m \u001b[38;5;21;01mkeras\u001b[39;00m\u001b[38;5;21;01m.\u001b[39;00m\u001b[38;5;21;01mpreprocessing\u001b[39;00m \u001b[38;5;28;01mimport\u001b[39;00m image\n\u001b[0;32m----> 3\u001b[0m test_image \u001b[38;5;241m=\u001b[39m \u001b[43mimage\u001b[49m\u001b[38;5;241;43m.\u001b[39;49m\u001b[43mload_img\u001b[49m\u001b[43m(\u001b[49m\u001b[38;5;124;43m'\u001b[39;49m\u001b[38;5;124;43m../dataset/single_prediction/cat_or_dog_1.jpg\u001b[39;49m\u001b[38;5;124;43m'\u001b[39;49m\u001b[43m,\u001b[49m\u001b[43m \u001b[49m\u001b[43mtarget_size\u001b[49m\u001b[38;5;241;43m=\u001b[39;49m\u001b[43m(\u001b[49m\u001b[38;5;241;43m64\u001b[39;49m\u001b[43m,\u001b[49m\u001b[43m \u001b[49m\u001b[38;5;241;43m64\u001b[39;49m\u001b[43m)\u001b[49m\u001b[43m)\u001b[49m \u001b[38;5;66;03m# Load the image\u001b[39;00m\n\u001b[1;32m      4\u001b[0m test_image \u001b[38;5;241m=\u001b[39m image\u001b[38;5;241m.\u001b[39mimg_to_array(test_image) \u001b[38;5;66;03m# Turn the image into an array\u001b[39;00m\n\u001b[1;32m      5\u001b[0m test_image \u001b[38;5;241m=\u001b[39m np\u001b[38;5;241m.\u001b[39mexpand_dims(test_image, axis\u001b[38;5;241m=\u001b[39m\u001b[38;5;241m0\u001b[39m) \u001b[38;5;66;03m# Add an extra dimension (batch size) to the array (as the predict method expects a batch)\u001b[39;00m\n",
            "File \u001b[0;32m/Library/Frameworks/Python.framework/Versions/3.10/lib/python3.10/site-packages/keras/src/utils/image_utils.py:422\u001b[0m, in \u001b[0;36mload_img\u001b[0;34m(path, grayscale, color_mode, target_size, interpolation, keep_aspect_ratio)\u001b[0m\n\u001b[1;32m    420\u001b[0m     \u001b[38;5;28;01mif\u001b[39;00m \u001b[38;5;28misinstance\u001b[39m(path, pathlib\u001b[38;5;241m.\u001b[39mPath):\n\u001b[1;32m    421\u001b[0m         path \u001b[38;5;241m=\u001b[39m \u001b[38;5;28mstr\u001b[39m(path\u001b[38;5;241m.\u001b[39mresolve())\n\u001b[0;32m--> 422\u001b[0m     \u001b[38;5;28;01mwith\u001b[39;00m \u001b[38;5;28;43mopen\u001b[39;49m\u001b[43m(\u001b[49m\u001b[43mpath\u001b[49m\u001b[43m,\u001b[49m\u001b[43m \u001b[49m\u001b[38;5;124;43m\"\u001b[39;49m\u001b[38;5;124;43mrb\u001b[39;49m\u001b[38;5;124;43m\"\u001b[39;49m\u001b[43m)\u001b[49m \u001b[38;5;28;01mas\u001b[39;00m f:\n\u001b[1;32m    423\u001b[0m         img \u001b[38;5;241m=\u001b[39m pil_image\u001b[38;5;241m.\u001b[39mopen(io\u001b[38;5;241m.\u001b[39mBytesIO(f\u001b[38;5;241m.\u001b[39mread()))\n\u001b[1;32m    424\u001b[0m \u001b[38;5;28;01melse\u001b[39;00m:\n",
            "\u001b[0;31mFileNotFoundError\u001b[0m: [Errno 2] No such file or directory: '../dataset/single_prediction/cat_or_dog_1.jpg'"
          ]
        }
      ],
      "source": [
        "import numpy as np\n",
        "from keras.preprocessing import image\n",
        "test_image = image.load_img('/dataset/single_prediction/cat_or_dog_1.jpg', target_size=(64, 64)) # Load the image\n",
        "test_image = image.img_to_array(test_image) # Turn the image into an array\n",
        "test_image = np.expand_dims(test_image, axis=0) # Add an extra dimension (batch size) to the array (as the predict method expects a batch)\n",
        "\n",
        "result = cnn.predict(test_image) # Predict the result\n",
        "\n",
        "training_set.class_indices # Get the indices of the classes"
      ]
    },
    {
      "cell_type": "code",
      "execution_count": null,
      "metadata": {
        "colab": {},
        "colab_type": "code",
        "id": "ED9KB3I54c1i"
      },
      "outputs": [],
      "source": [
        "if result[0][0] == 1:\n",
        "    prediction = 'dog'\n",
        "else:\n",
        "    prediction = 'cat'\n",
        "\n",
        "print(prediction)"
      ]
    }
  ],
  "metadata": {
    "colab": {
      "collapsed_sections": [],
      "name": "convolutional_neural_network.ipynb",
      "provenance": [],
      "toc_visible": true
    },
    "kernelspec": {
      "display_name": "Python 3",
      "name": "python3"
    },
    "language_info": {
      "codemirror_mode": {
        "name": "ipython",
        "version": 3
      },
      "file_extension": ".py",
      "mimetype": "text/x-python",
      "name": "python",
      "nbconvert_exporter": "python",
      "pygments_lexer": "ipython3",
      "version": "3.10.6"
    }
  },
  "nbformat": 4,
  "nbformat_minor": 0
}
