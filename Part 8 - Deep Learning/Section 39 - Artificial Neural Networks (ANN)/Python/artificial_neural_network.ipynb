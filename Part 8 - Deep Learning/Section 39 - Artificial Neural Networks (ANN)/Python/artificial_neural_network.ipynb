{
  "cells": [
    {
      "cell_type": "markdown",
      "metadata": {
        "colab_type": "text",
        "id": "lP6JLo1tGNBg"
      },
      "source": [
        "# Artificial Neural Network"
      ]
    },
    {
      "cell_type": "markdown",
      "metadata": {
        "colab_type": "text",
        "id": "gWZyYmS_UE_L"
      },
      "source": [
        "### Importing the libraries"
      ]
    },
    {
      "cell_type": "code",
      "execution_count": 1,
      "metadata": {
        "colab": {},
        "colab_type": "code",
        "id": "MxkJoQBkUIHC"
      },
      "outputs": [],
      "source": [
        "import numpy as np\n",
        "import pandas as pd\n",
        "import tensorflow as tf"
      ]
    },
    {
      "cell_type": "code",
      "execution_count": 2,
      "metadata": {
        "colab": {
          "base_uri": "https://localhost:8080/",
          "height": 34
        },
        "colab_type": "code",
        "id": "ZaTwK7ojXr2F",
        "outputId": "0b27a96d-d11a-43e8-ab4b-87c1f01896fe"
      },
      "outputs": [
        {
          "data": {
            "text/plain": [
              "'2.15.0'"
            ]
          },
          "execution_count": 2,
          "metadata": {},
          "output_type": "execute_result"
        }
      ],
      "source": [
        "tf.__version__ "
      ]
    },
    {
      "cell_type": "markdown",
      "metadata": {
        "colab_type": "text",
        "id": "1E0Q3aoKUCRX"
      },
      "source": [
        "## Part 1 - Data Preprocessing"
      ]
    },
    {
      "cell_type": "markdown",
      "metadata": {
        "colab_type": "text",
        "id": "cKWAkFVGUU0Z"
      },
      "source": [
        "### Importing the dataset"
      ]
    },
    {
      "cell_type": "code",
      "execution_count": 3,
      "metadata": {
        "colab": {},
        "colab_type": "code",
        "id": "MXUkhkMfU4wq"
      },
      "outputs": [],
      "source": [
        "dataset = pd.read_csv('Churn_Modelling.csv')\n",
        "X = dataset.iloc[:, 3:-1].values # first 3 columns will not help in predicting the outcome\n",
        "y = dataset.iloc[:, -1].values # last column is the dependent variable"
      ]
    },
    {
      "cell_type": "code",
      "execution_count": 4,
      "metadata": {
        "colab": {
          "base_uri": "https://localhost:8080/",
          "height": 137
        },
        "colab_type": "code",
        "id": "VYP9cQTWbzuI",
        "outputId": "797e7a64-9bac-436a-8c9c-94437e5e7587"
      },
      "outputs": [
        {
          "name": "stdout",
          "output_type": "stream",
          "text": [
            "[[619 'France' 'Female' ... 1 1 101348.88]\n",
            " [608 'Spain' 'Female' ... 0 1 112542.58]\n",
            " [502 'France' 'Female' ... 1 0 113931.57]\n",
            " ...\n",
            " [709 'France' 'Female' ... 0 1 42085.58]\n",
            " [772 'Germany' 'Male' ... 1 0 92888.52]\n",
            " [792 'France' 'Female' ... 1 0 38190.78]]\n"
          ]
        }
      ],
      "source": [
        "print(X)"
      ]
    },
    {
      "cell_type": "code",
      "execution_count": 5,
      "metadata": {
        "colab": {
          "base_uri": "https://localhost:8080/",
          "height": 34
        },
        "colab_type": "code",
        "id": "38vKGE6Nb2RR",
        "outputId": "a815e42a-e0dd-4cb5-ab97-b17ead98fbc3"
      },
      "outputs": [
        {
          "name": "stdout",
          "output_type": "stream",
          "text": [
            "[1 0 1 ... 1 1 0]\n"
          ]
        }
      ],
      "source": [
        "print(y)"
      ]
    },
    {
      "cell_type": "markdown",
      "metadata": {
        "colab_type": "text",
        "id": "N6bQ0UgSU-NJ"
      },
      "source": [
        "### Encoding categorical data"
      ]
    },
    {
      "cell_type": "markdown",
      "metadata": {
        "colab_type": "text",
        "id": "le5MJreAbW52"
      },
      "source": [
        "Label Encoding the \"Gender\" column"
      ]
    },
    {
      "cell_type": "code",
      "execution_count": 6,
      "metadata": {
        "colab": {},
        "colab_type": "code",
        "id": "PxVKWXxLbczC"
      },
      "outputs": [],
      "source": [
        "from sklearn.preprocessing import LabelEncoder\n",
        "\n",
        "le = LabelEncoder()\n",
        "X[:, 2] = le.fit_transform(X[:, 2]) # encode the gender column"
      ]
    },
    {
      "cell_type": "code",
      "execution_count": 7,
      "metadata": {
        "colab": {
          "base_uri": "https://localhost:8080/",
          "height": 137
        },
        "colab_type": "code",
        "id": "-M1KboxFb6OO",
        "outputId": "e2b8c7e8-0cbc-4cdf-f4eb-7f0853a00b88"
      },
      "outputs": [
        {
          "name": "stdout",
          "output_type": "stream",
          "text": [
            "[[619 'France' 0 ... 1 1 101348.88]\n",
            " [608 'Spain' 0 ... 0 1 112542.58]\n",
            " [502 'France' 0 ... 1 0 113931.57]\n",
            " ...\n",
            " [709 'France' 0 ... 0 1 42085.58]\n",
            " [772 'Germany' 1 ... 1 0 92888.52]\n",
            " [792 'France' 0 ... 1 0 38190.78]]\n"
          ]
        }
      ],
      "source": [
        "print(X)"
      ]
    },
    {
      "cell_type": "markdown",
      "metadata": {
        "colab_type": "text",
        "id": "CUxGZezpbMcb"
      },
      "source": [
        "One Hot Encoding the \"Geography\" column"
      ]
    },
    {
      "cell_type": "code",
      "execution_count": 8,
      "metadata": {
        "colab": {},
        "colab_type": "code",
        "id": "AMXC8-KMVirw"
      },
      "outputs": [],
      "source": [
        "# label encoding will not work for the country column as it will give the countries a ranking\n",
        "from sklearn.compose import ColumnTransformer\n",
        "from sklearn.preprocessing import OneHotEncoder\n",
        "\n",
        "ct = ColumnTransformer(transformers=[('encoder', OneHotEncoder(), [1])], remainder='passthrough') # encode the country column\n",
        "X = np.array(ct.fit_transform(X))"
      ]
    },
    {
      "cell_type": "code",
      "execution_count": 9,
      "metadata": {
        "colab": {
          "base_uri": "https://localhost:8080/",
          "height": 137
        },
        "colab_type": "code",
        "id": "ZcxwEon-b8nV",
        "outputId": "23a98af4-5e33-4b26-c27b-f06e3c5d2baf"
      },
      "outputs": [
        {
          "name": "stdout",
          "output_type": "stream",
          "text": [
            "[[1.0 0.0 0.0 ... 1 1 101348.88]\n",
            " [0.0 0.0 1.0 ... 0 1 112542.58]\n",
            " [1.0 0.0 0.0 ... 1 0 113931.57]\n",
            " ...\n",
            " [1.0 0.0 0.0 ... 0 1 42085.58]\n",
            " [0.0 1.0 0.0 ... 1 0 92888.52]\n",
            " [1.0 0.0 0.0 ... 1 0 38190.78]]\n"
          ]
        }
      ],
      "source": [
        "print(X)"
      ]
    },
    {
      "cell_type": "markdown",
      "metadata": {
        "colab_type": "text",
        "id": "vHol938cW8zd"
      },
      "source": [
        "### Splitting the dataset into the Training set and Test set"
      ]
    },
    {
      "cell_type": "code",
      "execution_count": 10,
      "metadata": {
        "colab": {},
        "colab_type": "code",
        "id": "Z-TDt0Y_XEfc"
      },
      "outputs": [],
      "source": [
        "from sklearn.model_selection import train_test_split\n",
        "X_train, X_test, y_train, y_test = train_test_split(X, y, test_size = 0.2, random_state=0)"
      ]
    },
    {
      "cell_type": "markdown",
      "metadata": {
        "colab_type": "text",
        "id": "RE_FcHyfV3TQ"
      },
      "source": [
        "### Feature Scaling"
      ]
    },
    {
      "cell_type": "code",
      "execution_count": 11,
      "metadata": {
        "colab": {},
        "colab_type": "code",
        "id": "ViCrE00rV8Sk"
      },
      "outputs": [],
      "source": [
        "# feature scaling is required for deep learning models\n",
        "# feature scaling will be applied to ALL features, including the dummy variables\n",
        "\n",
        "from sklearn.preprocessing import StandardScaler\n",
        "sc = StandardScaler()\n",
        "X_train = sc.fit_transform(X_train)\n",
        "X_test = sc.transform(X_test)"
      ]
    },
    {
      "cell_type": "markdown",
      "metadata": {
        "colab_type": "text",
        "id": "-zfEzkRVXIwF"
      },
      "source": [
        "## Part 2 - Building the ANN"
      ]
    },
    {
      "cell_type": "markdown",
      "metadata": {
        "colab_type": "text",
        "id": "KvdeScabXtlB"
      },
      "source": [
        "### Initializing the ANN"
      ]
    },
    {
      "cell_type": "code",
      "execution_count": 12,
      "metadata": {
        "colab": {},
        "colab_type": "code",
        "id": "3dtrScHxXQox"
      },
      "outputs": [],
      "source": [
        "ann = tf.keras.models.Sequential() # initialize the ANN"
      ]
    },
    {
      "cell_type": "markdown",
      "metadata": {
        "colab_type": "text",
        "id": "rP6urV6SX7kS"
      },
      "source": [
        "### Adding the input layer and the first hidden layer"
      ]
    },
    {
      "cell_type": "code",
      "execution_count": 13,
      "metadata": {
        "colab": {},
        "colab_type": "code",
        "id": "bppGycBXYCQr"
      },
      "outputs": [],
      "source": [
        "ann.add(tf.keras.layers.Dense(units=6, activation='relu')) # add the input layer and the first hidden layer. Dense class will randomly initialize the weights to small numbers close to 0."
      ]
    },
    {
      "cell_type": "markdown",
      "metadata": {
        "colab_type": "text",
        "id": "BELWAc_8YJze"
      },
      "source": [
        "### Adding the second hidden layer"
      ]
    },
    {
      "cell_type": "code",
      "execution_count": 14,
      "metadata": {
        "colab": {},
        "colab_type": "code",
        "id": "JneR0u0sYRTd"
      },
      "outputs": [],
      "source": [
        "ann.add(tf.keras.layers.Dense(units=6, activation='relu')) # add the second hidden layer"
      ]
    },
    {
      "cell_type": "markdown",
      "metadata": {
        "colab_type": "text",
        "id": "OyNEe6RXYcU4"
      },
      "source": [
        "### Adding the output layer"
      ]
    },
    {
      "cell_type": "code",
      "execution_count": 15,
      "metadata": {
        "colab": {},
        "colab_type": "code",
        "id": "Cn3x41RBYfvY"
      },
      "outputs": [],
      "source": [
        "ann.add(tf.keras.layers.Dense(units=1, activation='sigmoid')) # add the output layer. Sigmoid activation function will give the outcome and probability.\n",
        "# if we required a non-binary outcome, more than one output neuron would be required. The activation function would be softmax."
      ]
    },
    {
      "cell_type": "markdown",
      "metadata": {
        "colab_type": "text",
        "id": "JT4u2S1_Y4WG"
      },
      "source": [
        "## Part 3 - Training the ANN"
      ]
    },
    {
      "cell_type": "markdown",
      "metadata": {
        "colab_type": "text",
        "id": "8GWlJChhY_ZI"
      },
      "source": [
        "### Compiling the ANN"
      ]
    },
    {
      "cell_type": "code",
      "execution_count": 16,
      "metadata": {
        "colab": {},
        "colab_type": "code",
        "id": "fG3RrwDXZEaS"
      },
      "outputs": [],
      "source": [
        "ann.compile(optimizer='adam', loss='binary_crossentropy', metrics=['accuracy']) # Adam is a stochastic gradient descent algorithm. \n",
        "                                                                                # Binary cross entropy is the loss function for binary outcomes. \n",
        "                                                                                # Accuracy is the metric to improve. Can have more than one metric (therefore a list)."
      ]
    },
    {
      "cell_type": "markdown",
      "metadata": {
        "colab_type": "text",
        "id": "0QR_G5u7ZLSM"
      },
      "source": [
        "### Training the ANN on the Training set"
      ]
    },
    {
      "cell_type": "code",
      "execution_count": 17,
      "metadata": {
        "colab": {
          "base_uri": "https://localhost:8080/",
          "height": 1000
        },
        "colab_type": "code",
        "id": "nHZ-LKv_ZRb3",
        "outputId": "718cc4b0-b5aa-40f0-9b20-d3d31730a531"
      },
      "outputs": [
        {
          "name": "stdout",
          "output_type": "stream",
          "text": [
            "Epoch 1/200\n",
            "250/250 [==============================] - 0s 569us/step - loss: 0.7476 - accuracy: 0.4925\n",
            "Epoch 2/200\n",
            "250/250 [==============================] - 0s 772us/step - loss: 0.5072 - accuracy: 0.7952\n",
            "Epoch 3/200\n",
            "250/250 [==============================] - 0s 466us/step - loss: 0.4661 - accuracy: 0.8002\n",
            "Epoch 4/200\n",
            "250/250 [==============================] - 0s 449us/step - loss: 0.4376 - accuracy: 0.8117\n",
            "Epoch 5/200\n",
            "250/250 [==============================] - 0s 438us/step - loss: 0.4243 - accuracy: 0.8161\n",
            "Epoch 6/200\n",
            "250/250 [==============================] - 0s 447us/step - loss: 0.4182 - accuracy: 0.8235\n",
            "Epoch 7/200\n",
            "250/250 [==============================] - 0s 457us/step - loss: 0.4141 - accuracy: 0.8256\n",
            "Epoch 8/200\n",
            "250/250 [==============================] - 0s 508us/step - loss: 0.4102 - accuracy: 0.8260\n",
            "Epoch 9/200\n",
            "250/250 [==============================] - 0s 550us/step - loss: 0.4060 - accuracy: 0.8289\n",
            "Epoch 10/200\n",
            "250/250 [==============================] - 0s 600us/step - loss: 0.4024 - accuracy: 0.8280\n",
            "Epoch 11/200\n",
            "250/250 [==============================] - 0s 509us/step - loss: 0.3986 - accuracy: 0.8310\n",
            "Epoch 12/200\n",
            "250/250 [==============================] - 0s 468us/step - loss: 0.3957 - accuracy: 0.8300\n",
            "Epoch 13/200\n",
            "250/250 [==============================] - 0s 456us/step - loss: 0.3931 - accuracy: 0.8310\n",
            "Epoch 14/200\n",
            "250/250 [==============================] - 0s 547us/step - loss: 0.3904 - accuracy: 0.8325\n",
            "Epoch 15/200\n",
            "250/250 [==============================] - 0s 428us/step - loss: 0.3878 - accuracy: 0.8356\n",
            "Epoch 16/200\n",
            "250/250 [==============================] - 0s 433us/step - loss: 0.3851 - accuracy: 0.8346\n",
            "Epoch 17/200\n",
            "250/250 [==============================] - 0s 421us/step - loss: 0.3815 - accuracy: 0.8386\n",
            "Epoch 18/200\n",
            "250/250 [==============================] - 0s 422us/step - loss: 0.3779 - accuracy: 0.8389\n",
            "Epoch 19/200\n",
            "250/250 [==============================] - 0s 451us/step - loss: 0.3740 - accuracy: 0.8432\n",
            "Epoch 20/200\n",
            "250/250 [==============================] - 0s 435us/step - loss: 0.3691 - accuracy: 0.8444\n",
            "Epoch 21/200\n",
            "250/250 [==============================] - 0s 435us/step - loss: 0.3642 - accuracy: 0.8486\n",
            "Epoch 22/200\n",
            "250/250 [==============================] - 0s 432us/step - loss: 0.3595 - accuracy: 0.8508\n",
            "Epoch 23/200\n",
            "250/250 [==============================] - 0s 415us/step - loss: 0.3552 - accuracy: 0.8521\n",
            "Epoch 24/200\n",
            "250/250 [==============================] - 0s 432us/step - loss: 0.3521 - accuracy: 0.8544\n",
            "Epoch 25/200\n",
            "250/250 [==============================] - 0s 436us/step - loss: 0.3492 - accuracy: 0.8551\n",
            "Epoch 26/200\n",
            "250/250 [==============================] - 0s 432us/step - loss: 0.3479 - accuracy: 0.8580\n",
            "Epoch 27/200\n",
            "250/250 [==============================] - 0s 431us/step - loss: 0.3467 - accuracy: 0.8571\n",
            "Epoch 28/200\n",
            "250/250 [==============================] - 0s 430us/step - loss: 0.3455 - accuracy: 0.8619\n",
            "Epoch 29/200\n",
            "250/250 [==============================] - 0s 434us/step - loss: 0.3449 - accuracy: 0.8585\n",
            "Epoch 30/200\n",
            "250/250 [==============================] - 0s 540us/step - loss: 0.3438 - accuracy: 0.8597\n",
            "Epoch 31/200\n",
            "250/250 [==============================] - 0s 432us/step - loss: 0.3431 - accuracy: 0.8604\n",
            "Epoch 32/200\n",
            "250/250 [==============================] - 0s 433us/step - loss: 0.3427 - accuracy: 0.8606\n",
            "Epoch 33/200\n",
            "250/250 [==============================] - 0s 441us/step - loss: 0.3423 - accuracy: 0.8608\n",
            "Epoch 34/200\n",
            "250/250 [==============================] - 0s 440us/step - loss: 0.3417 - accuracy: 0.8609\n",
            "Epoch 35/200\n",
            "250/250 [==============================] - 0s 443us/step - loss: 0.3407 - accuracy: 0.8615\n",
            "Epoch 36/200\n",
            "250/250 [==============================] - 0s 437us/step - loss: 0.3409 - accuracy: 0.8605\n",
            "Epoch 37/200\n",
            "250/250 [==============================] - 0s 426us/step - loss: 0.3399 - accuracy: 0.8615\n",
            "Epoch 38/200\n",
            "250/250 [==============================] - 0s 432us/step - loss: 0.3392 - accuracy: 0.8627\n",
            "Epoch 39/200\n",
            "250/250 [==============================] - 0s 434us/step - loss: 0.3391 - accuracy: 0.8619\n",
            "Epoch 40/200\n",
            "250/250 [==============================] - 0s 426us/step - loss: 0.3392 - accuracy: 0.8619\n",
            "Epoch 41/200\n",
            "250/250 [==============================] - 0s 427us/step - loss: 0.3386 - accuracy: 0.8594\n",
            "Epoch 42/200\n",
            "250/250 [==============================] - 0s 427us/step - loss: 0.3385 - accuracy: 0.8615\n",
            "Epoch 43/200\n",
            "250/250 [==============================] - 0s 445us/step - loss: 0.3383 - accuracy: 0.8622\n",
            "Epoch 44/200\n",
            "250/250 [==============================] - 0s 430us/step - loss: 0.3380 - accuracy: 0.8611\n",
            "Epoch 45/200\n",
            "250/250 [==============================] - 0s 421us/step - loss: 0.3377 - accuracy: 0.8624\n",
            "Epoch 46/200\n",
            "250/250 [==============================] - 0s 522us/step - loss: 0.3373 - accuracy: 0.8608\n",
            "Epoch 47/200\n",
            "250/250 [==============================] - 0s 428us/step - loss: 0.3368 - accuracy: 0.8635\n",
            "Epoch 48/200\n",
            "250/250 [==============================] - 0s 436us/step - loss: 0.3368 - accuracy: 0.8621\n",
            "Epoch 49/200\n",
            "250/250 [==============================] - 0s 425us/step - loss: 0.3363 - accuracy: 0.8619\n",
            "Epoch 50/200\n",
            "250/250 [==============================] - 0s 432us/step - loss: 0.3367 - accuracy: 0.8622\n",
            "Epoch 51/200\n",
            "250/250 [==============================] - 0s 428us/step - loss: 0.3361 - accuracy: 0.8627\n",
            "Epoch 52/200\n",
            "250/250 [==============================] - 0s 440us/step - loss: 0.3361 - accuracy: 0.8621\n",
            "Epoch 53/200\n",
            "250/250 [==============================] - 0s 444us/step - loss: 0.3358 - accuracy: 0.8619\n",
            "Epoch 54/200\n",
            "250/250 [==============================] - 0s 432us/step - loss: 0.3355 - accuracy: 0.8626\n",
            "Epoch 55/200\n",
            "250/250 [==============================] - 0s 422us/step - loss: 0.3354 - accuracy: 0.8602\n",
            "Epoch 56/200\n",
            "250/250 [==============================] - 0s 427us/step - loss: 0.3351 - accuracy: 0.8621\n",
            "Epoch 57/200\n",
            "250/250 [==============================] - 0s 433us/step - loss: 0.3349 - accuracy: 0.8624\n",
            "Epoch 58/200\n",
            "250/250 [==============================] - 0s 508us/step - loss: 0.3346 - accuracy: 0.8624\n",
            "Epoch 59/200\n",
            "250/250 [==============================] - 0s 442us/step - loss: 0.3344 - accuracy: 0.8627\n",
            "Epoch 60/200\n",
            "250/250 [==============================] - 0s 435us/step - loss: 0.3336 - accuracy: 0.8609\n",
            "Epoch 61/200\n",
            "250/250 [==============================] - 0s 422us/step - loss: 0.3337 - accuracy: 0.8624\n",
            "Epoch 62/200\n",
            "250/250 [==============================] - 0s 554us/step - loss: 0.3340 - accuracy: 0.8618\n",
            "Epoch 63/200\n",
            "250/250 [==============================] - 0s 436us/step - loss: 0.3334 - accuracy: 0.8634\n",
            "Epoch 64/200\n",
            "250/250 [==============================] - 0s 426us/step - loss: 0.3331 - accuracy: 0.8627\n",
            "Epoch 65/200\n",
            "250/250 [==============================] - 0s 545us/step - loss: 0.3331 - accuracy: 0.8633\n",
            "Epoch 66/200\n",
            "250/250 [==============================] - 0s 431us/step - loss: 0.3327 - accuracy: 0.8634\n",
            "Epoch 67/200\n",
            "250/250 [==============================] - 0s 418us/step - loss: 0.3327 - accuracy: 0.8624\n",
            "Epoch 68/200\n",
            "250/250 [==============================] - 0s 427us/step - loss: 0.3325 - accuracy: 0.8635\n",
            "Epoch 69/200\n",
            "250/250 [==============================] - 0s 430us/step - loss: 0.3322 - accuracy: 0.8640\n",
            "Epoch 70/200\n",
            "250/250 [==============================] - 0s 424us/step - loss: 0.3319 - accuracy: 0.8635\n",
            "Epoch 71/200\n",
            "250/250 [==============================] - 0s 432us/step - loss: 0.3320 - accuracy: 0.8643\n",
            "Epoch 72/200\n",
            "250/250 [==============================] - 0s 429us/step - loss: 0.3316 - accuracy: 0.8648\n",
            "Epoch 73/200\n",
            "250/250 [==============================] - 0s 424us/step - loss: 0.3319 - accuracy: 0.8643\n",
            "Epoch 74/200\n",
            "250/250 [==============================] - 0s 424us/step - loss: 0.3319 - accuracy: 0.8629\n",
            "Epoch 75/200\n",
            "250/250 [==============================] - 0s 434us/step - loss: 0.3311 - accuracy: 0.8649\n",
            "Epoch 76/200\n",
            "250/250 [==============================] - 0s 438us/step - loss: 0.3317 - accuracy: 0.8640\n",
            "Epoch 77/200\n",
            "250/250 [==============================] - 0s 436us/step - loss: 0.3311 - accuracy: 0.8637\n",
            "Epoch 78/200\n",
            "250/250 [==============================] - 0s 528us/step - loss: 0.3309 - accuracy: 0.8641\n",
            "Epoch 79/200\n",
            "250/250 [==============================] - 0s 428us/step - loss: 0.3311 - accuracy: 0.8624\n",
            "Epoch 80/200\n",
            "250/250 [==============================] - 0s 430us/step - loss: 0.3303 - accuracy: 0.8670\n",
            "Epoch 81/200\n",
            "250/250 [==============================] - 0s 432us/step - loss: 0.3311 - accuracy: 0.8650\n",
            "Epoch 82/200\n",
            "250/250 [==============================] - 0s 431us/step - loss: 0.3307 - accuracy: 0.8659\n",
            "Epoch 83/200\n",
            "250/250 [==============================] - 0s 434us/step - loss: 0.3307 - accuracy: 0.8626\n",
            "Epoch 84/200\n",
            "250/250 [==============================] - 0s 426us/step - loss: 0.3305 - accuracy: 0.8646\n",
            "Epoch 85/200\n",
            "250/250 [==============================] - 0s 427us/step - loss: 0.3301 - accuracy: 0.8643\n",
            "Epoch 86/200\n",
            "250/250 [==============================] - 0s 427us/step - loss: 0.3307 - accuracy: 0.8645\n",
            "Epoch 87/200\n",
            "250/250 [==============================] - 0s 434us/step - loss: 0.3304 - accuracy: 0.8631\n",
            "Epoch 88/200\n",
            "250/250 [==============================] - 0s 431us/step - loss: 0.3301 - accuracy: 0.8641\n",
            "Epoch 89/200\n",
            "250/250 [==============================] - 0s 427us/step - loss: 0.3297 - accuracy: 0.8650\n",
            "Epoch 90/200\n",
            "250/250 [==============================] - 0s 424us/step - loss: 0.3298 - accuracy: 0.8629\n",
            "Epoch 91/200\n",
            "250/250 [==============================] - 0s 430us/step - loss: 0.3301 - accuracy: 0.8640\n",
            "Epoch 92/200\n",
            "250/250 [==============================] - 0s 538us/step - loss: 0.3302 - accuracy: 0.8635\n",
            "Epoch 93/200\n",
            "250/250 [==============================] - 0s 425us/step - loss: 0.3299 - accuracy: 0.8662\n",
            "Epoch 94/200\n",
            "250/250 [==============================] - 0s 426us/step - loss: 0.3299 - accuracy: 0.8644\n",
            "Epoch 95/200\n",
            "250/250 [==============================] - 0s 441us/step - loss: 0.3300 - accuracy: 0.8652\n",
            "Epoch 96/200\n",
            "250/250 [==============================] - 0s 432us/step - loss: 0.3297 - accuracy: 0.8660\n",
            "Epoch 97/200\n",
            "250/250 [==============================] - 0s 429us/step - loss: 0.3296 - accuracy: 0.8643\n",
            "Epoch 98/200\n",
            "250/250 [==============================] - 0s 432us/step - loss: 0.3297 - accuracy: 0.8635\n",
            "Epoch 99/200\n",
            "250/250 [==============================] - 0s 419us/step - loss: 0.3291 - accuracy: 0.8651\n",
            "Epoch 100/200\n",
            "250/250 [==============================] - 0s 429us/step - loss: 0.3300 - accuracy: 0.8665\n",
            "Epoch 101/200\n",
            "250/250 [==============================] - 0s 466us/step - loss: 0.3300 - accuracy: 0.8637\n",
            "Epoch 102/200\n",
            "250/250 [==============================] - 0s 499us/step - loss: 0.3297 - accuracy: 0.8637\n",
            "Epoch 103/200\n",
            "250/250 [==============================] - 0s 484us/step - loss: 0.3295 - accuracy: 0.8652\n",
            "Epoch 104/200\n",
            "250/250 [==============================] - 0s 504us/step - loss: 0.3291 - accuracy: 0.8643\n",
            "Epoch 105/200\n",
            "250/250 [==============================] - 0s 645us/step - loss: 0.3295 - accuracy: 0.8648\n",
            "Epoch 106/200\n",
            "250/250 [==============================] - 0s 506us/step - loss: 0.3296 - accuracy: 0.8651\n",
            "Epoch 107/200\n",
            "250/250 [==============================] - 0s 466us/step - loss: 0.3294 - accuracy: 0.8648\n",
            "Epoch 108/200\n",
            "250/250 [==============================] - 0s 465us/step - loss: 0.3294 - accuracy: 0.8646\n",
            "Epoch 109/200\n",
            "250/250 [==============================] - 0s 450us/step - loss: 0.3294 - accuracy: 0.8655\n",
            "Epoch 110/200\n",
            "250/250 [==============================] - 0s 480us/step - loss: 0.3294 - accuracy: 0.8661\n",
            "Epoch 111/200\n",
            "250/250 [==============================] - 0s 503us/step - loss: 0.3292 - accuracy: 0.8662\n",
            "Epoch 112/200\n",
            "250/250 [==============================] - 0s 612us/step - loss: 0.3291 - accuracy: 0.8669\n",
            "Epoch 113/200\n",
            "250/250 [==============================] - 0s 613us/step - loss: 0.3291 - accuracy: 0.8675\n",
            "Epoch 114/200\n",
            "250/250 [==============================] - 0s 450us/step - loss: 0.3295 - accuracy: 0.8661\n",
            "Epoch 115/200\n",
            "250/250 [==============================] - 0s 466us/step - loss: 0.3286 - accuracy: 0.8668\n",
            "Epoch 116/200\n",
            "250/250 [==============================] - 0s 559us/step - loss: 0.3290 - accuracy: 0.8646\n",
            "Epoch 117/200\n",
            "250/250 [==============================] - 0s 531us/step - loss: 0.3289 - accuracy: 0.8646\n",
            "Epoch 118/200\n",
            "250/250 [==============================] - 0s 490us/step - loss: 0.3295 - accuracy: 0.8645\n",
            "Epoch 119/200\n",
            "250/250 [==============================] - 0s 448us/step - loss: 0.3290 - accuracy: 0.8664\n",
            "Epoch 120/200\n",
            "250/250 [==============================] - 0s 436us/step - loss: 0.3291 - accuracy: 0.8645\n",
            "Epoch 121/200\n",
            "250/250 [==============================] - 0s 433us/step - loss: 0.3292 - accuracy: 0.8649\n",
            "Epoch 122/200\n",
            "250/250 [==============================] - 0s 435us/step - loss: 0.3285 - accuracy: 0.8660\n",
            "Epoch 123/200\n",
            "250/250 [==============================] - 0s 422us/step - loss: 0.3291 - accuracy: 0.8668\n",
            "Epoch 124/200\n",
            "250/250 [==============================] - 0s 544us/step - loss: 0.3283 - accuracy: 0.8658\n",
            "Epoch 125/200\n",
            "250/250 [==============================] - 0s 507us/step - loss: 0.3288 - accuracy: 0.8651\n",
            "Epoch 126/200\n",
            "250/250 [==============================] - 0s 519us/step - loss: 0.3284 - accuracy: 0.8670\n",
            "Epoch 127/200\n",
            "250/250 [==============================] - 0s 488us/step - loss: 0.3287 - accuracy: 0.8660\n",
            "Epoch 128/200\n",
            "250/250 [==============================] - 0s 438us/step - loss: 0.3287 - accuracy: 0.8659\n",
            "Epoch 129/200\n",
            "250/250 [==============================] - 0s 436us/step - loss: 0.3282 - accuracy: 0.8665\n",
            "Epoch 130/200\n",
            "250/250 [==============================] - 0s 435us/step - loss: 0.3288 - accuracy: 0.8652\n",
            "Epoch 131/200\n",
            "250/250 [==============================] - 0s 434us/step - loss: 0.3285 - accuracy: 0.8665\n",
            "Epoch 132/200\n",
            "250/250 [==============================] - 0s 510us/step - loss: 0.3287 - accuracy: 0.8648\n",
            "Epoch 133/200\n",
            "250/250 [==============================] - 0s 518us/step - loss: 0.3286 - accuracy: 0.8666\n",
            "Epoch 134/200\n",
            "250/250 [==============================] - 0s 452us/step - loss: 0.3287 - accuracy: 0.8658\n",
            "Epoch 135/200\n",
            "250/250 [==============================] - 0s 434us/step - loss: 0.3287 - accuracy: 0.8656\n",
            "Epoch 136/200\n",
            "250/250 [==============================] - 0s 426us/step - loss: 0.3282 - accuracy: 0.8665\n",
            "Epoch 137/200\n",
            "250/250 [==============================] - 0s 538us/step - loss: 0.3282 - accuracy: 0.8671\n",
            "Epoch 138/200\n",
            "250/250 [==============================] - 0s 447us/step - loss: 0.3287 - accuracy: 0.8650\n",
            "Epoch 139/200\n",
            "250/250 [==============================] - 0s 479us/step - loss: 0.3288 - accuracy: 0.8661\n",
            "Epoch 140/200\n",
            "250/250 [==============================] - 0s 453us/step - loss: 0.3286 - accuracy: 0.8656\n",
            "Epoch 141/200\n",
            "250/250 [==============================] - 0s 475us/step - loss: 0.3278 - accuracy: 0.8666\n",
            "Epoch 142/200\n",
            "250/250 [==============================] - 0s 421us/step - loss: 0.3284 - accuracy: 0.8654\n",
            "Epoch 143/200\n",
            "250/250 [==============================] - 0s 435us/step - loss: 0.3287 - accuracy: 0.8671\n",
            "Epoch 144/200\n",
            "250/250 [==============================] - 0s 436us/step - loss: 0.3288 - accuracy: 0.8660\n",
            "Epoch 145/200\n",
            "250/250 [==============================] - 0s 427us/step - loss: 0.3282 - accuracy: 0.8662\n",
            "Epoch 146/200\n",
            "250/250 [==============================] - 0s 422us/step - loss: 0.3282 - accuracy: 0.8675\n",
            "Epoch 147/200\n",
            "250/250 [==============================] - 0s 430us/step - loss: 0.3286 - accuracy: 0.8637\n",
            "Epoch 148/200\n",
            "250/250 [==============================] - 0s 434us/step - loss: 0.3279 - accuracy: 0.8654\n",
            "Epoch 149/200\n",
            "250/250 [==============================] - 0s 436us/step - loss: 0.3284 - accuracy: 0.8669\n",
            "Epoch 150/200\n",
            "250/250 [==============================] - 0s 525us/step - loss: 0.3280 - accuracy: 0.8664\n",
            "Epoch 151/200\n",
            "250/250 [==============================] - 0s 435us/step - loss: 0.3286 - accuracy: 0.8643\n",
            "Epoch 152/200\n",
            "250/250 [==============================] - 0s 433us/step - loss: 0.3279 - accuracy: 0.8652\n",
            "Epoch 153/200\n",
            "250/250 [==============================] - 0s 427us/step - loss: 0.3278 - accuracy: 0.8665\n",
            "Epoch 154/200\n",
            "250/250 [==============================] - 0s 435us/step - loss: 0.3281 - accuracy: 0.8655\n",
            "Epoch 155/200\n",
            "250/250 [==============================] - 0s 429us/step - loss: 0.3279 - accuracy: 0.8669\n",
            "Epoch 156/200\n",
            "250/250 [==============================] - 0s 431us/step - loss: 0.3282 - accuracy: 0.8666\n",
            "Epoch 157/200\n",
            "250/250 [==============================] - 0s 431us/step - loss: 0.3279 - accuracy: 0.8677\n",
            "Epoch 158/200\n",
            "250/250 [==============================] - 0s 431us/step - loss: 0.3286 - accuracy: 0.8649\n",
            "Epoch 159/200\n",
            "250/250 [==============================] - 0s 429us/step - loss: 0.3278 - accuracy: 0.8659\n",
            "Epoch 160/200\n",
            "250/250 [==============================] - 0s 432us/step - loss: 0.3281 - accuracy: 0.8665\n",
            "Epoch 161/200\n",
            "250/250 [==============================] - 0s 427us/step - loss: 0.3282 - accuracy: 0.8644\n",
            "Epoch 162/200\n",
            "250/250 [==============================] - 0s 543us/step - loss: 0.3278 - accuracy: 0.8661\n",
            "Epoch 163/200\n",
            "250/250 [==============================] - 0s 433us/step - loss: 0.3277 - accuracy: 0.8648\n",
            "Epoch 164/200\n",
            "250/250 [==============================] - 0s 425us/step - loss: 0.3281 - accuracy: 0.8668\n",
            "Epoch 165/200\n",
            "250/250 [==============================] - 0s 436us/step - loss: 0.3278 - accuracy: 0.8668\n",
            "Epoch 166/200\n",
            "250/250 [==============================] - 0s 455us/step - loss: 0.3278 - accuracy: 0.8661\n",
            "Epoch 167/200\n",
            "250/250 [==============================] - 0s 435us/step - loss: 0.3278 - accuracy: 0.8669\n",
            "Epoch 168/200\n",
            "250/250 [==============================] - 0s 424us/step - loss: 0.3280 - accuracy: 0.8652\n",
            "Epoch 169/200\n",
            "250/250 [==============================] - 0s 423us/step - loss: 0.3277 - accuracy: 0.8666\n",
            "Epoch 170/200\n",
            "250/250 [==============================] - 0s 426us/step - loss: 0.3273 - accuracy: 0.8664\n",
            "Epoch 171/200\n",
            "250/250 [==============================] - 0s 434us/step - loss: 0.3278 - accuracy: 0.8669\n",
            "Epoch 172/200\n",
            "250/250 [==============================] - 0s 433us/step - loss: 0.3280 - accuracy: 0.8652\n",
            "Epoch 173/200\n",
            "250/250 [==============================] - 0s 431us/step - loss: 0.3277 - accuracy: 0.8661\n",
            "Epoch 174/200\n",
            "250/250 [==============================] - 0s 428us/step - loss: 0.3277 - accuracy: 0.8662\n",
            "Epoch 175/200\n",
            "250/250 [==============================] - 0s 452us/step - loss: 0.3275 - accuracy: 0.8671\n",
            "Epoch 176/200\n",
            "250/250 [==============================] - 0s 538us/step - loss: 0.3277 - accuracy: 0.8648\n",
            "Epoch 177/200\n",
            "250/250 [==============================] - 0s 432us/step - loss: 0.3278 - accuracy: 0.8676\n",
            "Epoch 178/200\n",
            "250/250 [==============================] - 0s 427us/step - loss: 0.3280 - accuracy: 0.8662\n",
            "Epoch 179/200\n",
            "250/250 [==============================] - 0s 427us/step - loss: 0.3277 - accuracy: 0.8654\n",
            "Epoch 180/200\n",
            "250/250 [==============================] - 0s 426us/step - loss: 0.3279 - accuracy: 0.8673\n",
            "Epoch 181/200\n",
            "250/250 [==============================] - 0s 432us/step - loss: 0.3275 - accuracy: 0.8660\n",
            "Epoch 182/200\n",
            "250/250 [==============================] - 0s 431us/step - loss: 0.3275 - accuracy: 0.8677\n",
            "Epoch 183/200\n",
            "250/250 [==============================] - 0s 427us/step - loss: 0.3280 - accuracy: 0.8674\n",
            "Epoch 184/200\n",
            "250/250 [==============================] - 0s 431us/step - loss: 0.3276 - accuracy: 0.8656\n",
            "Epoch 185/200\n",
            "250/250 [==============================] - 0s 428us/step - loss: 0.3276 - accuracy: 0.8659\n",
            "Epoch 186/200\n",
            "250/250 [==============================] - 0s 433us/step - loss: 0.3273 - accuracy: 0.8677\n",
            "Epoch 187/200\n",
            "250/250 [==============================] - 0s 424us/step - loss: 0.3274 - accuracy: 0.8668\n",
            "Epoch 188/200\n",
            "250/250 [==============================] - 0s 430us/step - loss: 0.3273 - accuracy: 0.8661\n",
            "Epoch 189/200\n",
            "250/250 [==============================] - 0s 528us/step - loss: 0.3278 - accuracy: 0.8668\n",
            "Epoch 190/200\n",
            "250/250 [==============================] - 0s 433us/step - loss: 0.3276 - accuracy: 0.8668\n",
            "Epoch 191/200\n",
            "250/250 [==============================] - 0s 425us/step - loss: 0.3278 - accuracy: 0.8648\n",
            "Epoch 192/200\n",
            "250/250 [==============================] - 0s 429us/step - loss: 0.3273 - accuracy: 0.8673\n",
            "Epoch 193/200\n",
            "250/250 [==============================] - 0s 424us/step - loss: 0.3278 - accuracy: 0.8666\n",
            "Epoch 194/200\n",
            "250/250 [==============================] - 0s 425us/step - loss: 0.3279 - accuracy: 0.8668\n",
            "Epoch 195/200\n",
            "250/250 [==============================] - 0s 426us/step - loss: 0.3276 - accuracy: 0.8671\n",
            "Epoch 196/200\n",
            "250/250 [==============================] - 0s 434us/step - loss: 0.3278 - accuracy: 0.8675\n",
            "Epoch 197/200\n",
            "250/250 [==============================] - 0s 426us/step - loss: 0.3271 - accuracy: 0.8649\n",
            "Epoch 198/200\n",
            "250/250 [==============================] - 0s 423us/step - loss: 0.3275 - accuracy: 0.8659\n",
            "Epoch 199/200\n",
            "250/250 [==============================] - 0s 430us/step - loss: 0.3271 - accuracy: 0.8656\n",
            "Epoch 200/200\n",
            "250/250 [==============================] - 0s 426us/step - loss: 0.3279 - accuracy: 0.8650\n"
          ]
        },
        {
          "data": {
            "text/plain": [
              "<keras.src.callbacks.History at 0x287eb2800>"
            ]
          },
          "execution_count": 17,
          "metadata": {},
          "output_type": "execute_result"
        }
      ],
      "source": [
        "ann.fit(X_train, y_train, batch_size=32, epochs=200) # batch size is the number of observations after which the weights will be updated (32 is default). Epochs is the number of times the whole training set will be passed through the ANN."
      ]
    },
    {
      "cell_type": "markdown",
      "metadata": {
        "colab_type": "text",
        "id": "tJj5k2MxZga3"
      },
      "source": [
        "## Part 4 - Making the predictions and evaluating the model"
      ]
    },
    {
      "cell_type": "markdown",
      "metadata": {
        "colab_type": "text",
        "id": "84QFoqGYeXHL"
      },
      "source": [
        "### Predicting the result of a single observation"
      ]
    },
    {
      "cell_type": "markdown",
      "metadata": {
        "colab_type": "text",
        "id": "CGRo3eacgDdC"
      },
      "source": [
        "**Homework**\n",
        "\n",
        "Use our ANN model to predict if the customer with the following informations will leave the bank: \n",
        "\n",
        "Geography: France\n",
        "\n",
        "Credit Score: 600\n",
        "\n",
        "Gender: Male\n",
        "\n",
        "Age: 40 years old\n",
        "\n",
        "Tenure: 3 years\n",
        "\n",
        "Balance: \\$ 60000\n",
        "\n",
        "Number of Products: 2\n",
        "\n",
        "Does this customer have a credit card ? Yes\n",
        "\n",
        "Is this customer an Active Member: Yes\n",
        "\n",
        "Estimated Salary: \\$ 50000\n",
        "\n",
        "So, should we say goodbye to that customer ?"
      ]
    },
    {
      "cell_type": "markdown",
      "metadata": {
        "colab_type": "text",
        "id": "ZhU1LTgPg-kH"
      },
      "source": [
        "**Solution**"
      ]
    },
    {
      "cell_type": "code",
      "execution_count": 20,
      "metadata": {
        "colab": {
          "base_uri": "https://localhost:8080/",
          "height": 34
        },
        "colab_type": "code",
        "id": "2d8IoCCkeWGL",
        "outputId": "957f3970-e197-4c3b-a150-7f69dc567f5d"
      },
      "outputs": [
        {
          "name": "stdout",
          "output_type": "stream",
          "text": [
            "1/1 [==============================] - 0s 12ms/step\n",
            "[[0.03375295]]\n",
            "1/1 [==============================] - 0s 10ms/step\n",
            "[[False]]\n"
          ]
        }
      ],
      "source": [
        "customer = [[1, 0, 0, 600, 1, 40, 3, 60000, 2, 1, 1, 50000]] # remember double brackets as this is a numpy array (requires a 2D array)\n",
        "\n",
        "scaled_customer = sc.transform(customer) # scale the customer data using the same scaler as the training data\n",
        "\n",
        "# as we used a sigmoid activation function, the model will predict probability \n",
        "print(ann.predict(scaled_customer)) # Predict the PROBABILITY of the customer leaving the bank.\n",
        "print(ann.predict(scaled_customer) > 0.5) # predict the OUTCOME for a single observation."
      ]
    },
    {
      "cell_type": "markdown",
      "metadata": {
        "colab_type": "text",
        "id": "wGjx94g2n7OV"
      },
      "source": [
        "Therefore, our ANN model predicts that this customer stays in the bank!\n",
        "\n",
        "**Important note 1:** Notice that the values of the features were all input in a double pair of square brackets. That's because the \"predict\" method always expects a 2D array as the format of its inputs. And putting our values into a double pair of square brackets makes the input exactly a 2D array.\n",
        "\n",
        "**Important note 2:** Notice also that the \"France\" country was not input as a string in the last column but as \"1, 0, 0\" in the first three columns. That's because of course the predict method expects the one-hot-encoded values of the state, and as we see in the first row of the matrix of features X, \"France\" was encoded as \"1, 0, 0\". And be careful to include these values in the first three columns, because the dummy variables are always created in the first columns."
      ]
    },
    {
      "cell_type": "markdown",
      "metadata": {
        "colab_type": "text",
        "id": "u7yx47jPZt11"
      },
      "source": [
        "### Predicting the Test set results"
      ]
    },
    {
      "cell_type": "code",
      "execution_count": 25,
      "metadata": {
        "colab": {
          "base_uri": "https://localhost:8080/",
          "height": 137
        },
        "colab_type": "code",
        "id": "nIyEeQdRZwgs",
        "outputId": "82330ba8-9bdc-4fd1-d3cf-b6d78ee7c2a3"
      },
      "outputs": [
        {
          "name": "stdout",
          "output_type": "stream",
          "text": [
            " 1/63 [..............................] - ETA: 0s"
          ]
        },
        {
          "name": "stdout",
          "output_type": "stream",
          "text": [
            "63/63 [==============================] - 0s 530us/step\n",
            "[[0 0]\n",
            " [0 1]\n",
            " [0 0]\n",
            " ...\n",
            " [0 0]\n",
            " [0 0]\n",
            " [0 0]]\n"
          ]
        }
      ],
      "source": [
        "y_pred = ann.predict(X_test) # predict the outcome for the test set\n",
        "y_pred = (y_pred > 0.5) # convert the probabilities to outcomes\n",
        "print(np.concatenate((y_pred.reshape(len(y_pred), 1), y_test.reshape(len(y_test), 1)), 1))"
      ]
    },
    {
      "cell_type": "markdown",
      "metadata": {
        "colab_type": "text",
        "id": "o0oyfLWoaEGw"
      },
      "source": [
        "### Making the Confusion Matrix"
      ]
    },
    {
      "cell_type": "code",
      "execution_count": 26,
      "metadata": {
        "colab": {
          "base_uri": "https://localhost:8080/",
          "height": 68
        },
        "colab_type": "code",
        "id": "ci6K_r6LaF6P",
        "outputId": "4d854e9e-22d5-432f-f6e5-a102fe3ae0bd"
      },
      "outputs": [
        {
          "name": "stdout",
          "output_type": "stream",
          "text": [
            "[[1524   71]\n",
            " [ 198  207]]\n"
          ]
        }
      ],
      "source": [
        "from sklearn.metrics import confusion_matrix, accuracy_score\n",
        "cm = confusion_matrix(y_test, y_pred > 0.5) # confusion matrix for the test set\n",
        "print(cm)"
      ]
    },
    {
      "cell_type": "code",
      "execution_count": 27,
      "metadata": {},
      "outputs": [
        {
          "name": "stdout",
          "output_type": "stream",
          "text": [
            "0.8655\n"
          ]
        }
      ],
      "source": [
        "print(accuracy_score(y_test, y_pred > 0.5)) # accuracy score for the test set"
      ]
    }
  ],
  "metadata": {
    "colab": {
      "collapsed_sections": [],
      "name": "artificial_neural_network.ipynb",
      "provenance": [],
      "toc_visible": true
    },
    "kernelspec": {
      "display_name": "Python 3",
      "name": "python3"
    },
    "language_info": {
      "codemirror_mode": {
        "name": "ipython",
        "version": 3
      },
      "file_extension": ".py",
      "mimetype": "text/x-python",
      "name": "python",
      "nbconvert_exporter": "python",
      "pygments_lexer": "ipython3",
      "version": "3.10.6"
    }
  },
  "nbformat": 4,
  "nbformat_minor": 0
}
